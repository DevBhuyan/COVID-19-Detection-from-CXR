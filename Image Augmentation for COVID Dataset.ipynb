{
 "cells": [
  {
   "cell_type": "code",
   "execution_count": 4,
   "id": "889ab01f",
   "metadata": {},
   "outputs": [],
   "source": [
    "from keras.preprocessing.image import ImageDataGenerator\n",
    "from skimage import io\n",
    "import os"
   ]
  },
  {
   "cell_type": "code",
   "execution_count": 26,
   "id": "8758a8ed",
   "metadata": {},
   "outputs": [],
   "source": [
    "cwd = 'C:/Users/Asus/COVID19 datasets - Limited/Training/VIRAL/train/'"
   ]
  },
  {
   "cell_type": "code",
   "execution_count": 27,
   "id": "330fe270",
   "metadata": {},
   "outputs": [
    {
     "data": {
      "text/plain": [
       "'C:/Users/Asus/COVID19 datasets - Limited/Testing/VIRAL/train/'"
      ]
     },
     "execution_count": 27,
     "metadata": {},
     "output_type": "execute_result"
    }
   ],
   "source": [
    "cwd"
   ]
  },
  {
   "cell_type": "code",
   "execution_count": 25,
   "id": "479d6590",
   "metadata": {},
   "outputs": [],
   "source": [
    "ls = os.listdir(cwd)\n",
    "l = len(ls)\n",
    "rem = 250 - l\n",
    "for i in range(l):\n",
    "    if rem and ls[i][:5] == 'CLAHE':\n",
    "        file = ls[i]\n",
    "        im = io.imread(cwd+file)\n",
    "        im = im.reshape((1, ) + im.shape + (1, ))\n",
    "        c = 0\n",
    "        if i%4 == 0:\n",
    "            x = 0.2\n",
    "            y = z = w = 0\n",
    "        elif i%4 == 1:\n",
    "            y = 0.2\n",
    "            x = z = w = 0\n",
    "        elif i%4 == 2:\n",
    "            z = 0.2\n",
    "            x = y = w = 0\n",
    "        else:\n",
    "            w = 0\n",
    "            x = y = z = 0\n",
    "        datagen = ImageDataGenerator(\n",
    "            width_shift_range=x,  \n",
    "            height_shift_range=y,    \n",
    "            shear_range=z,        \n",
    "            zoom_range=w,        \n",
    "            fill_mode='constant', cval=125)\n",
    "        for batch in datagen.flow(im, \n",
    "                                  save_to_dir=cwd,\n",
    "                                  save_prefix='AUG',\n",
    "                                  save_format='jpg'):\n",
    "            c += 1\n",
    "            if c:\n",
    "                break\n",
    "    else:\n",
    "        break\n",
    "    rem -= 1"
   ]
  },
  {
   "cell_type": "code",
   "execution_count": null,
   "id": "218db10f",
   "metadata": {},
   "outputs": [],
   "source": []
  },
  {
   "cell_type": "code",
   "execution_count": null,
   "id": "47113db0",
   "metadata": {},
   "outputs": [],
   "source": []
  },
  {
   "cell_type": "code",
   "execution_count": null,
   "id": "49652340",
   "metadata": {},
   "outputs": [],
   "source": []
  },
  {
   "cell_type": "code",
   "execution_count": null,
   "id": "2c0dc5f9",
   "metadata": {},
   "outputs": [],
   "source": []
  },
  {
   "cell_type": "code",
   "execution_count": null,
   "id": "56d870cf",
   "metadata": {},
   "outputs": [],
   "source": []
  }
 ],
 "metadata": {
  "kernelspec": {
   "display_name": "Python 3 (ipykernel)",
   "language": "python",
   "name": "python3"
  },
  "language_info": {
   "codemirror_mode": {
    "name": "ipython",
    "version": 3
   },
   "file_extension": ".py",
   "mimetype": "text/x-python",
   "name": "python",
   "nbconvert_exporter": "python",
   "pygments_lexer": "ipython3",
   "version": "3.9.12"
  }
 },
 "nbformat": 4,
 "nbformat_minor": 5
}
